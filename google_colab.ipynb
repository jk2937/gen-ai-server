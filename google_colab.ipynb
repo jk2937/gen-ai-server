{
  "nbformat": 4,
  "nbformat_minor": 0,
  "metadata": {
    "colab": {
      "provenance": [],
      "gpuType": "T4"
    },
    "kernelspec": {
      "name": "python3",
      "display_name": "Python 3"
    },
    "language_info": {
      "name": "python"
    },
    "accelerator": "GPU"
  },
  "cells": [
    {
      "cell_type": "code",
      "source": [
        "import os"
      ],
      "metadata": {
        "id": "OnsWseciFzuL"
      },
      "execution_count": null,
      "outputs": []
    },
    {
      "cell_type": "code",
      "execution_count": null,
      "metadata": {
        "id": "oc4RhzSzCpUx"
      },
      "outputs": [],
      "source": [
        "os.chdir(\"/content\")\n",
        "!pwd\n",
        "!git clone http://github.com/jk2937/hello-world.git"
      ]
    },
    {
      "cell_type": "code",
      "source": [
        "os.chdir(\"/content/hello-world/gen-ai-server\")\n",
        "!pwd\n",
        "!ls\n",
        "\n",
        "!apt update\n",
        "!apt -y install python3-venv python3-pip\n",
        "!source install.sh"
      ],
      "metadata": {
        "id": "ZgdAovDkC3GJ"
      },
      "execution_count": null,
      "outputs": []
    },
    {
      "cell_type": "code",
      "source": [
        "!cat install.sh"
      ],
      "metadata": {
        "id": "yRFVjI8aXwfD"
      },
      "execution_count": null,
      "outputs": []
    },
    {
      "cell_type": "code",
      "source": [
        "!python3 -m pip install flask diffusers torch transformers accelerate"
      ],
      "metadata": {
        "id": "C4ty1NWaXz6N"
      },
      "execution_count": null,
      "outputs": []
    },
    {
      "cell_type": "code",
      "source": [
        "!pip install flask_ngrok"
      ],
      "metadata": {
        "id": "SNNTbDcDItSD"
      },
      "execution_count": null,
      "outputs": []
    },
    {
      "cell_type": "code",
      "source": [
        "!pip install ngrok uvicorn gunicorn"
      ],
      "metadata": {
        "id": "uXXJFV1yOkTk"
      },
      "execution_count": null,
      "outputs": []
    },
    {
      "cell_type": "code",
      "source": [
        "!python -m ngrok"
      ],
      "metadata": {
        "id": "9r_TbhPiQUTu"
      },
      "execution_count": null,
      "outputs": []
    },
    {
      "cell_type": "code",
      "source": [
        "!mkdir -p /root/.ngrok2/\n",
        "!echo \"authtoken: {token}\" > /root/.ngrok2/ngrok.yml\n"
      ],
      "metadata": {
        "id": "HcDLOTMNQ9Ix"
      },
      "execution_count": null,
      "outputs": []
    },
    {
      "cell_type": "code",
      "source": [
        "!pip install virtualenv\n",
        "!virtualenv venv"
      ],
      "metadata": {
        "id": "Hq07rB5JXEaf"
      },
      "execution_count": null,
      "outputs": []
    },
    {
      "cell_type": "code",
      "source": [
        "import app\n",
        "from flask_ngrok import run_with_ngrok\n",
        "\n",
        "run_with_ngrok(app.app)\n",
        "app.app.run()"
      ],
      "metadata": {
        "id": "kFzDh4MuJdij"
      },
      "execution_count": null,
      "outputs": []
    },
    {
      "cell_type": "code",
      "source": [
        "!df -h /"
      ],
      "metadata": {
        "id": "aIT9WVDlcjcL"
      },
      "execution_count": null,
      "outputs": []
    },
    {
      "cell_type": "code",
      "source": [
        "!cd /content/hello-world/Swap; bash makeswap.sh"
      ],
      "metadata": {
        "id": "IwqsrC7wc9dt"
      },
      "execution_count": null,
      "outputs": []
    },
    {
      "cell_type": "code",
      "source": [
        "!du -h /root/swapfile2"
      ],
      "metadata": {
        "id": "zU2lKdFZdfrP"
      },
      "execution_count": null,
      "outputs": []
    },
    {
      "cell_type": "code",
      "source": [
        "!sudo chown root: /root/swapfile2\n",
        "!sudo swapon /root/swapfile2"
      ],
      "metadata": {
        "id": "FeEZsaaEc95F"
      },
      "execution_count": null,
      "outputs": []
    }
  ]
}